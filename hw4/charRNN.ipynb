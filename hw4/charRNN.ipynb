{
 "cells": [
  {
   "cell_type": "code",
   "execution_count": 4,
   "metadata": {},
   "outputs": [],
   "source": [
    "import string\n",
    "import random\n",
    "import re\n",
    "import torch\n",
    "import torch.nn as nn\n",
    "from torch.autograd import Variable\n",
    "from torch.nn import init\n",
    "import matplotlib.pyplot as plt\n",
    "%matplotlib inline"
   ]
  },
  {
   "cell_type": "code",
   "execution_count": 5,
   "metadata": {},
   "outputs": [],
   "source": [
    "text = open('./tinyshakespeare.txt').read()\n",
    "text_len = len(text)\n",
    "\n",
    "all_characters = string.printable\n",
    "n_characters = len(all_characters)"
   ]
  },
  {
   "cell_type": "code",
   "execution_count": 6,
   "metadata": {},
   "outputs": [],
   "source": [
    "def get_chunk(chunk_len=100):\n",
    "    start_index = random.randint(0, text_len - chunk_len)\n",
    "    end_index = start_index + chunk_len + 1\n",
    "    return text[start_index:end_index]\n",
    "\n",
    "def to_tensor(string, dtype='float'):\n",
    "    tensor = torch.zeros(len(string)).long()\n",
    "    for c in range(len(string)):\n",
    "        tensor[c] = all_characters.index(string[c])\n",
    "    return Variable(tensor)\n",
    "\n",
    "def random_training_set():    \n",
    "    chunk = get_chunk()\n",
    "    inp = to_tensor(chunk[:-1])\n",
    "    target = to_tensor(chunk[1:])\n",
    "    return inp, target"
   ]
  },
  {
   "cell_type": "code",
   "execution_count": 7,
   "metadata": {},
   "outputs": [],
   "source": [
    "class Model(nn.Module):\n",
    "    def __init__(self, input_size, hidden_size, output_size, n_layers=1, htype='rnn', lr=0.005):\n",
    "        super(Model, self).__init__()\n",
    "        self.input_size = input_size\n",
    "        self.hidden_size = hidden_size\n",
    "        self.output_size = output_size\n",
    "        self.n_layers = n_layers\n",
    "        self.htype = htype\n",
    "        \n",
    "        self.encoder = nn.Embedding(input_size, hidden_size)\n",
    "        print(htype)\n",
    "        if htype=='rnn':\n",
    "            self.model = nn.RNN(hidden_size, hidden_size, n_layers)\n",
    "        elif htype=='lstm':\n",
    "            self.model = nn.LSTM(hidden_size, hidden_size, n_layers)\n",
    "        elif htype=='gru':\n",
    "            self.model = nn.GRU(hidden_size, hidden_size, n_layers)\n",
    "        self.decoder = nn.Linear(hidden_size, output_size)\n",
    "        \n",
    "        self.optimizer = torch.optim.Adam(self.parameters(), lr=lr)\n",
    "        self.criterion = nn.CrossEntropyLoss()\n",
    "    \n",
    "    def forward(self, input, hidden):\n",
    "        input = self.encoder(input.view(1, -1))\n",
    "        output, hidden = self.model(input.view(1, 1, -1), hidden)\n",
    "        output = self.decoder(output.view(1, -1))\n",
    "        return output, hidden\n",
    "    \n",
    "    def evaluate(self, prime_str='T', predict_len=500, temperature=0.8):\n",
    "        hidden = self.init_hidden()\n",
    "        prime_input = to_tensor(prime_str)\n",
    "        predicted = prime_str\n",
    "        \n",
    "        # Use priming string to \"build up\" hidden state\n",
    "        for p in range(len(prime_str) - 1):\n",
    "            _, hidden = self(prime_input[p], hidden)\n",
    "        inp = prime_input[-1]\n",
    "\n",
    "        for p in range(predict_len):\n",
    "            output, hidden = self(inp, hidden)\n",
    "\n",
    "            # Sample from the network as a multinomial distribution\n",
    "            output_dist = output.data.view(-1).div(temperature).exp()\n",
    "            top_i = torch.multinomial(output_dist, 1)[0]\n",
    "\n",
    "            # Add predicted character to string and use as next input\n",
    "            predicted_char = all_characters[top_i]\n",
    "            predicted += predicted_char\n",
    "            inp = to_tensor(predicted_char)\n",
    "\n",
    "        return predicted\n",
    "    \n",
    "    def train(self, inp, target, chunk_len=100):\n",
    "        hidden = self.init_hidden()\n",
    "        self.zero_grad()\n",
    "        loss = 0\n",
    "\n",
    "        for c in range(chunk_len):\n",
    "            output, hidden = self(inp[c], hidden)\n",
    "            loss += self.criterion(output, target[c])\n",
    "\n",
    "        loss.backward()\n",
    "        self.optimizer.step()\n",
    "\n",
    "        return loss.data[0]/chunk_len\n",
    "\n",
    "    def init_hidden(self):\n",
    "        if self.htype == \"lstm\":\n",
    "            return (Variable(torch.zeros(self.n_layers, 1, self.hidden_size)),\n",
    "                    Variable(torch.zeros(self.n_layers, 1, self.hidden_size)))\n",
    "        return Variable(torch.zeros(self.n_layers, 1, self.hidden_size),\\\n",
    "                        requires_grad=True)"
   ]
  },
  {
   "cell_type": "code",
   "execution_count": 8,
   "metadata": {},
   "outputs": [],
   "source": [
    "n_epochs = 2000\n",
    "print_every = 100\n",
    "plot_every = 10\n",
    "hidden_size = 100\n",
    "n_layers = 1\n",
    "lr = 0.005"
   ]
  },
  {
   "cell_type": "code",
   "execution_count": 9,
   "metadata": {},
   "outputs": [
    {
     "name": "stdout",
     "output_type": "stream",
     "text": [
      "rnn\n",
      "Model(\n",
      "  (encoder): Embedding(100, 100)\n",
      "  (model): RNN(100, 100)\n",
      "  (decoder): Linear(in_features=100, out_features=100, bias=True)\n",
      "  (criterion): CrossEntropyLoss(\n",
      "  )\n",
      ")\n"
     ]
    }
   ],
   "source": [
    "model = Model(n_characters, hidden_size, n_characters, n_layers, htype='rnn')\n",
    "print(model)"
   ]
  },
  {
   "cell_type": "code",
   "execution_count": 10,
   "metadata": {},
   "outputs": [
    {
     "name": "stdout",
     "output_type": "stream",
     "text": [
      "[(100 5%) 2.3918]\n",
      "[(200 10%) 2.3286]\n",
      "[(300 15%) 2.0976]\n",
      "[(400 20%) 2.2957]\n",
      "[(500 25%) 2.1071]\n",
      "[(600 30%) 2.2894]\n",
      "[(700 35%) 2.2599]\n",
      "[(800 40%) 2.1847]\n",
      "[(900 45%) 2.4030]\n",
      "[(1000 50%) 2.1097]\n",
      "[(1100 55%) 1.9414]\n",
      "[(1200 60%) 2.1530]\n",
      "[(1300 65%) 2.1673]\n",
      "[(1400 70%) 1.9575]\n",
      "[(1500 75%) 2.1183]\n",
      "[(1600 80%) 1.6135]\n",
      "[(1700 85%) 2.1906]\n",
      "[(1800 90%) 2.2060]\n",
      "[(1900 95%) 1.6811]\n",
      "[(2000 100%) 1.9493]\n"
     ]
    }
   ],
   "source": [
    "all_losses = []\n",
    "loss_avg = 0\n",
    "\n",
    "for epoch in range(1, n_epochs + 1):\n",
    "    loss = model.train(*random_training_set())       \n",
    "    loss_avg += loss\n",
    "\n",
    "    if epoch % print_every == 0:\n",
    "        print('[(%d %d%%) %.4f]' % (epoch, 1.*epoch/n_epochs*100, loss))\n",
    "        #print(model.evaluate('Wh', 100))\n",
    "        #print('\\n')\n",
    "\n",
    "    if epoch % plot_every == 0:\n",
    "        all_losses.append(loss_avg / plot_every)\n",
    "        loss_avg = 0"
   ]
  },
  {
   "cell_type": "code",
   "execution_count": 12,
   "metadata": {},
   "outputs": [
    {
     "name": "stdout",
     "output_type": "stream",
     "text": [
      "Thou the maid!\n",
      "\n",
      "KENCEN'NARINARANIO:\n",
      "I my reselo, atre, the your or upons so my brom lords aser at low now dived\n",
      "The like exced we and you for not fid for fare from flliaess:\n",
      "Noaked deat me fairn dud to his not exend, and a my men,\n",
      "Clord.\n",
      "OMth lold man and you with my sting what this to taker ert have me and do tone kint lived all me,\n",
      "Had the eet dones! me forimed!\n",
      "\n",
      "VETRUCHIOF OF OFPEONIUS:\n",
      "With lawh, the lible this there of with and weck my deever forst I for ind?\n",
      "\n",
      "HERSTHUENIO:\n",
      "And tust in and foth firm not and rece to his heremming. Sere say will mand my my now all ment own my laince from hast \n"
     ]
    }
   ],
   "source": [
    "print(model.evaluate('Th', 600))"
   ]
  },
  {
   "cell_type": "code",
   "execution_count": 15,
   "metadata": {},
   "outputs": [
    {
     "data": {
      "text/plain": [
       "Text(0,0.5,'Loss')"
      ]
     },
     "execution_count": 15,
     "metadata": {},
     "output_type": "execute_result"
    },
    {
     "data": {
      "image/png": "[encoded data removed]",
      "text/plain": [
       "<Figure size 432x288 with 1 Axes>"
      ]
     },
     "metadata": {},
     "output_type": "display_data"
    }
   ],
   "source": [
    "plt.figure()\n",
    "plt.plot(range(0,2000,10),all_losses)\n",
    "plt.ylim(0,5)\n",
    "plt.xlabel('Iterations')\n",
    "plt.ylabel('Loss')"
   ]
  },
  {
   "cell_type": "code",
   "execution_count": null,
   "metadata": {},
   "outputs": [],
   "source": []
  }
 ],
 "metadata": {
  "kernelspec": {
   "display_name": "Python 2",
   "language": "python",
   "name": "python2"
  },
  "language_info": {
   "codemirror_mode": {
    "name": "ipython",
    "version": 2
   },
   "file_extension": ".py",
   "mimetype": "text/x-python",
   "name": "python",
   "nbconvert_exporter": "python",
   "pygments_lexer": "ipython2",
   "version": "2.7.14"
  }
 },
 "nbformat": 4,
 "nbformat_minor": 2
}
