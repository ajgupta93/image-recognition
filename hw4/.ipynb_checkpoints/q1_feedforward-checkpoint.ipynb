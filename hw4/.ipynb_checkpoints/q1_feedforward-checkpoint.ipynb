{
 "cells": [
  {
   "cell_type": "code",
   "execution_count": 2,
   "metadata": {},
   "outputs": [],
   "source": [
    "import numpy as np\n",
    "import matplotlib.pyplot as plt\n",
    "from utils import get_q1_data\n",
    "%matplotlib inline\n",
    "plt.rcParams['figure.figsize'] = 8,8"
   ]
  },
  {
   "cell_type": "code",
   "execution_count": 3,
   "metadata": {
    "scrolled": true
   },
   "outputs": [
    {
     "name": "stdout",
     "output_type": "stream",
     "text": [
      "70 training samples, 30 test samples\n",
      "('classes:', array(['Iris-versicolor', 'Iris-virginica'], dtype='|S20'))\n",
      "The first 10 training samples are (with bias):\n",
      "[[1.  5.6 3.  4.1 1.3]\n",
      " [1.  5.5 2.5 4.  1.3]\n",
      " [1.  5.5 2.6 4.4 1.2]\n",
      " [1.  6.1 3.  4.6 1.4]\n",
      " [1.  5.8 2.6 4.  1.2]\n",
      " [1.  5.  2.3 3.3 1. ]\n",
      " [1.  5.6 2.7 4.2 1.3]\n",
      " [1.  5.7 3.  4.2 1.2]\n",
      " [1.  5.7 2.9 4.2 1.3]\n",
      " [1.  6.2 2.9 4.3 1.3]]\n"
     ]
    }
   ],
   "source": [
    "X_train, X_test, y_train, y_test, le = get_q1_data()\n",
    "print(\"%d training samples, %d test samples\"%(X_train.shape[0], X_test.shape[0]))\n",
    "print(\"classes:\", le.classes_)\n",
    "print(\"The first 10 training samples are (with bias):\")\n",
    "print(X_train[:10])"
   ]
  },
  {
   "cell_type": "markdown",
   "metadata": {},
   "source": [
    "### 1. Implement sigmoid function\n",
    "\\begin{align}\n",
    "sigmoid(x) & = \\frac{1}{1+e^{-x}} \\\\\n",
    "\\end{align}\n",
    "<img src=\"Figures/logistic.png\">"
   ]
  },
  {
   "cell_type": "code",
   "execution_count": 4,
   "metadata": {},
   "outputs": [],
   "source": [
    "def sigmoid(x):\n",
    "    ### TODO: Fill this function with your implementation of sigmoid function ####\n",
    "    exp = np.exp(-x)\n",
    "    return 1./(1.+exp)\n",
    "\n",
    "def sigmoid_(x):\n",
    "    return x * (1 - x)"
   ]
  },
  {
   "cell_type": "markdown",
   "metadata": {},
   "source": [
    "### 2. Implement cross entropy\n",
    "For binary classification for all samples with the output vector o and target label t $\\in \\{0, 1\\}$:\n",
    "\\begin{align}\n",
    "L(o, t) & = - \\sum_{i=1}^n(t^{(i)}log(o^{(i)}) + (1-t^{i})log(1-o^{i})) \\\\\n",
    "\\end{align}"
   ]
  },
  {
   "cell_type": "code",
   "execution_count": 5,
   "metadata": {},
   "outputs": [],
   "source": [
    "def crossentropy(o,t):\n",
    "    ### o is the output, t is the target.\n",
    "    ### TODO: Fill this function with your implementation of crossentropy function for all samples ####\n",
    "    L = np.sum(np.multiply(t,np.log(o))) + np.sum(np.multiply((1.-t),np.log(1.-o)))\n",
    "    return -L"
   ]
  },
  {
   "cell_type": "markdown",
   "metadata": {},
   "source": [
    "### 3. Initialize weights\n",
    "For weight initialization, please refer to http://cs231n.github.io/neural-networks-2/#init.\n",
    "\n",
    "Here we are building a feed forward neural network with 2 hidden units as shown below. \n",
    "<img src=\"Figures/nn.png\">"
   ]
  },
  {
   "cell_type": "code",
   "execution_count": 6,
   "metadata": {},
   "outputs": [],
   "source": [
    "def xavier_init(n_in, n_out):\n",
    "    w = np.random.normal(0, 2./(n_in + n_out), size=(n_in, n_out))\n",
    "    return w"
   ]
  },
  {
   "cell_type": "code",
   "execution_count": 42,
   "metadata": {},
   "outputs": [],
   "source": [
    "J = 2 # number of hidden units\n",
    "### TODO: Fill the information for weight initialization ###\n",
    "n_inp = X_train.shape[1]\n",
    "n_hid = J\n",
    "n_out = 1\n",
    "w1 = xavier_init(n_inp, n_hid) # initialize weights with calibration between input and hidden layer.\n",
    "w2 = xavier_init(n_hid, n_out) # initialize weights with calibration between hidden and output layer.\n",
    "n_iter = 10000 # can be modified\n",
    "alpha = 0.001 # can be modified\n",
    "train_err = []\n",
    "test_err = []\n",
    "dw1_ = []\n",
    "train_loss = []"
   ]
  },
  {
   "cell_type": "code",
   "execution_count": 43,
   "metadata": {},
   "outputs": [],
   "source": [
    "def get_err(pred, gt, thresh=0.5):\n",
    "    pred[pred>thresh] = 1.\n",
    "    pred[pred<=thresh] = 0.\n",
    "    return abs(gt-pred).sum()/gt.shape[0]"
   ]
  },
  {
   "cell_type": "markdown",
   "metadata": {},
   "source": [
    "### 4. Implement gradient descent for n iterations.\n",
    "Implement the update dw1 and dw2 based on your derivations for \\begin{align}\n",
    "\\frac{\\delta L}{\\delta w_2}, \n",
    "\\frac{\\delta L}{\\delta w_1}\n",
    "\\end{align}"
   ]
  },
  {
   "cell_type": "code",
   "execution_count": 44,
   "metadata": {
    "scrolled": false
   },
   "outputs": [
    {
     "name": "stdout",
     "output_type": "stream",
     "text": [
      "(0, 0.5, 0.5)\n",
      "(100, 0.5, 0.5)\n",
      "(200, 0.5, 0.5)\n",
      "(300, 0.2857142857142857, 0.26666666666666666)\n",
      "(400, 0.18571428571428572, 0.16666666666666666)\n",
      "(500, 0.12857142857142856, 0.1)\n",
      "(600, 0.11428571428571428, 0.03333333333333333)\n",
      "(700, 0.12857142857142856, 0.03333333333333333)\n",
      "(800, 0.12857142857142856, 0.03333333333333333)\n",
      "(900, 0.14285714285714285, 0.03333333333333333)\n",
      "(1000, 0.14285714285714285, 0.03333333333333333)\n",
      "(1100, 0.12857142857142856, 0.03333333333333333)\n",
      "(1200, 0.12857142857142856, 0.03333333333333333)\n",
      "(1300, 0.11428571428571428, 0.03333333333333333)\n",
      "(1400, 0.11428571428571428, 0.0)\n",
      "(1500, 0.11428571428571428, 0.0)\n",
      "(1600, 0.11428571428571428, 0.0)\n",
      "(1700, 0.11428571428571428, 0.0)\n",
      "(1800, 0.08571428571428572, 0.0)\n"
     ]
    }
   ],
   "source": [
    "### TODO: Fill the blanks below for gradient descent ###\n",
    "iters = []\n",
    "for n in range(n_iter):\n",
    "    h = sigmoid(X_train.dot(w1))\n",
    "    z = sigmoid(h.dot(w2))\n",
    "    \n",
    "    # backward computation to calculate dw1 and dw2\n",
    "    E = y_train - z\n",
    "    L = crossentropy(z, y_train)\n",
    "    \n",
    "    dz = E*sigmoid_(z)\n",
    "    dw2 = h.T.dot(dz)\n",
    "    \n",
    "    dh = dz.dot(w2.T) * sigmoid_(h)\n",
    "    dw1 = X_train.T.dot(dh)\n",
    "    \n",
    "    # weight updating\n",
    "    w1 = w1 + alpha*dw1\n",
    "    w2 = w2 + alpha*dw2\n",
    "\n",
    "    # training error\n",
    "    err = get_err(z, y_train)\n",
    "    train_err.append(err) # calculate the error and append to train_err\n",
    "    \n",
    "    # training loss\n",
    "    train_loss.append(L) # use your crossentropy to calculate the loss\n",
    "    \n",
    "    # test error\n",
    "    h = sigmoid(X_test.dot(w1))\n",
    "    z = sigmoid(h.dot(w2))\n",
    "    err = get_err(z, y_test)\n",
    "    test_err.append(err)\n",
    "    \n",
    "    iters.append(n)    \n",
    "    if n>2 and test_err[-1]>test_err[-2]:\n",
    "        break\n",
    "    \n",
    "    if n%100==0:\n",
    "        print(n, train_err[-1], test_err[-1])\n"
   ]
  },
  {
   "cell_type": "markdown",
   "metadata": {},
   "source": [
    "### 5. Print training loss vs number of iterations"
   ]
  },
  {
   "cell_type": "code",
   "execution_count": 47,
   "metadata": {},
   "outputs": [
    {
     "data": {
      "image/png": "[encoded data removed]",
      "text/plain": [
       "<Figure size 432x288 with 1 Axes>"
      ]
     },
     "metadata": {},
     "output_type": "display_data"
    }
   ],
   "source": [
    "plt.plot(iters, train_loss)\n",
    "#plt.plot(range(0,n_iter,100), train_loss[::100])\n",
    "plt.xlabel('Iterations')\n",
    "plt.ylabel('Train Loss')\n",
    "#plt.ylim(0., 1.)\n",
    "plt.show()"
   ]
  },
  {
   "cell_type": "markdown",
   "metadata": {},
   "source": [
    "### 6. Print training error and test error"
   ]
  },
  {
   "cell_type": "code",
   "execution_count": 48,
   "metadata": {},
   "outputs": [
    {
     "data": {
      "image/png": "[encoded data removed]",
      "text/plain": [
       "<Figure size 432x288 with 1 Axes>"
      ]
     },
     "metadata": {},
     "output_type": "display_data"
    }
   ],
   "source": [
    "plt.plot(iters, train_err)\n",
    "plt.plot(iters, test_err)\n",
    "plt.xlabel('Iterations')\n",
    "plt.ylabel('Error')\n",
    "plt.legend(['Train', 'Test'])\n",
    "plt.ylim(0., 1.)\n",
    "plt.show()"
   ]
  },
  {
   "cell_type": "code",
   "execution_count": null,
   "metadata": {},
   "outputs": [],
   "source": []
  }
 ],
 "metadata": {
  "kernelspec": {
   "display_name": "Python 2",
   "language": "python",
   "name": "python2"
  },
  "language_info": {
   "codemirror_mode": {
    "name": "ipython",
    "version": 2
   },
   "file_extension": ".py",
   "mimetype": "text/x-python",
   "name": "python",
   "nbconvert_exporter": "python",
   "pygments_lexer": "ipython2",
   "version": "2.7.14"
  }
 },
 "nbformat": 4,
 "nbformat_minor": 2
}
