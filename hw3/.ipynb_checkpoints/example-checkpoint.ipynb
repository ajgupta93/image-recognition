{
 "cells": [
  {
   "cell_type": "code",
   "execution_count": 2,
   "metadata": {},
   "outputs": [],
   "source": [
    "from sklearn import preprocessing\n",
    "import numpy as np\n",
    "import pandas as pd"
   ]
  },
  {
   "cell_type": "code",
   "execution_count": 3,
   "metadata": {},
   "outputs": [
    {
     "name": "stdout",
     "output_type": "stream",
     "text": [
      "['Iris-setosa' 'Iris-versicolor']\n"
     ]
    }
   ],
   "source": [
    "# load iris_train.data and iris_test.data\n",
    "pd_train = pd.read_csv(\"data/iris/iris_train.data\", names=[\"sepal_length\", \"sepal_width\", \"petal_length\", \"petal_width\", \"label\"])\n",
    "pd_test = pd.read_csv(\"data/iris/iris_test.data\", names=[\"sepal_length\", \"sepal_width\", \"petal_length\", \"petal_width\", \"label\"])\n",
    "\n",
    "# parse the features and labels as numpy arrays.\n",
    "X_train = pd_train.as_matrix(columns=[\"sepal_length\", \"sepal_width\", \"petal_length\", \"petal_width\"])\n",
    "y_train = pd_train.as_matrix(columns=[\"label\"]).ravel()\n",
    "X_test = pd_test.as_matrix(columns=[\"sepal_length\", \"sepal_width\", \"petal_length\", \"petal_width\"])\n",
    "y_test = pd_test.as_matrix(columns=[\"label\"]).ravel()\n",
    "\n",
    "# Encode labels\n",
    "le = preprocessing.LabelEncoder()\n",
    "le.fit(y_train)\n",
    "print(le.classes_)\n",
    "y_train = le.transform(y_train)\n",
    "y_test = le.transform(y_test)"
   ]
  },
  {
   "cell_type": "code",
   "execution_count": null,
   "metadata": {},
   "outputs": [],
   "source": []
  }
 ],
 "metadata": {
  "kernelspec": {
   "display_name": "Python 2",
   "language": "python",
   "name": "python2"
  },
  "language_info": {
   "codemirror_mode": {
    "name": "ipython",
    "version": 2
   },
   "file_extension": ".py",
   "mimetype": "text/x-python",
   "name": "python",
   "nbconvert_exporter": "python",
   "pygments_lexer": "ipython2",
   "version": "2.7.14"
  }
 },
 "nbformat": 4,
 "nbformat_minor": 2
}
