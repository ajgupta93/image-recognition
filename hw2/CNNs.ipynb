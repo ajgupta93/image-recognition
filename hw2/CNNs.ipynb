{
 "cells": [
  {
   "cell_type": "markdown",
   "metadata": {
    "collapsed": true
   },
   "source": [
    "## Introduction:\n",
    "You can use this ipython notebook as a template for the rest of the homework."
   ]
  },
  {
   "cell_type": "markdown",
   "metadata": {},
   "source": [
    "### 0. Basic Useful Setups:"
   ]
  },
  {
   "cell_type": "code",
   "execution_count": 61,
   "metadata": {},
   "outputs": [],
   "source": [
    "import torch\n",
    "import torchvision\n",
    "import torchvision.transforms as transforms\n",
    "from torch.autograd import Variable\n",
    "import torch.nn as nn\n",
    "import torch.nn.functional as F\n",
    "import torch.optim as optim\n",
    "import numpy as np"
   ]
  },
  {
   "cell_type": "markdown",
   "metadata": {},
   "source": [
    "### 1. Load datasets"
   ]
  },
  {
   "cell_type": "code",
   "execution_count": 62,
   "metadata": {},
   "outputs": [],
   "source": [
    "transform = transforms.Compose([\n",
    "    transforms.ToTensor(),\n",
    "    #transforms.Normalize((0.5, 0.5, 0.5),(0.5, 0.5, 0.5))\n",
    "])\n",
    "\n",
    "trainset = torchvision.datasets.MNIST(root='./data', train=True, \n",
    "                                      transform=transform, download=True)\n",
    "\n",
    "testset = torchvision.datasets.MNIST(root='./data', train=False,\n",
    "                                    transform=transform, download=True)\n",
    "\n",
    "def getLoaders(batch_size=64, num_workers=4, val_size=0.2, random_seed=42):\n",
    "    num_train = len(trainset)\n",
    "    indices = list(range(num_train))\n",
    "    split = int(np.floor(val_size * num_train))\n",
    "    np.random.seed(random_seed)\n",
    "    np.random.shuffle(indices)\n",
    "\n",
    "    train_idx, valid_idx = indices[split:], indices[:split]\n",
    "    train_sampler = torch.utils.data.sampler.SubsetRandomSampler(train_idx)\n",
    "    valid_sampler = torch.utils.data.sampler.SubsetRandomSampler(valid_idx)\n",
    "    \n",
    "    trainloader = torch.utils.data.DataLoader(dataset=trainset, batch_size=batch_size, \n",
    "                                              num_workers=num_workers, sampler=train_sampler)\n",
    "    valloader = torch.utils.data.DataLoader(dataset=trainset, batch_size=batch_size,\n",
    "                                            num_workers=num_workers, sampler=valid_sampler)\n",
    "    testloader = torch.utils.data.DataLoader(dataset=testset, batch_size=batch_size,\n",
    "                                             num_workers=num_workers)\n",
    "    return trainloader, valloader, testloader"
   ]
  },
  {
   "cell_type": "markdown",
   "metadata": {},
   "source": [
    "### 1. LetNet Model"
   ]
  },
  {
   "cell_type": "code",
   "execution_count": 63,
   "metadata": {},
   "outputs": [],
   "source": [
    "class LeNet(nn.Module):\n",
    "    def __init__(self, opt='adam'):\n",
    "        super(LeNet, self).__init__()\n",
    "        # torch.nn.Conv2d(in_channels, out_channels, kernel_size, stride=1, \n",
    "        #                 padding=0, dilation=1, groups=1, bias=True)\n",
    "        # torch.nn.MaxPool2d(kernel_size, stride=None, padding=0, dilation=1,\n",
    "        #                    return_indices=False, ceil_mode=False)\n",
    "        self.conv1 = nn.Conv2d(in_channels=1, out_channels=20, \n",
    "                               kernel_size=(5, 5), padding=(2, 2))\n",
    "        self.maxpool1 = nn.MaxPool2d(kernel_size=(2, 2), stride=(2, 2))\n",
    "        self.conv2 = nn.Conv2d(in_channels=20, out_channels=50, \n",
    "                               kernel_size=(5, 5), padding=(2, 2))\n",
    "        self.maxpool2 = nn.MaxPool2d(kernel_size=(2, 2), stride=(2, 2))\n",
    "        self.fc1 = nn.Linear(in_features=2450, out_features=500)\n",
    "        self.fc2 = nn.Linear(in_features=500, out_features=10)\n",
    "        \n",
    "        # Optimizer\n",
    "        if opt=='adam':\n",
    "            self.optimizer = optim.Adam(self.parameters())\n",
    "        elif opt=='rmsp':\n",
    "            self.optimizer = optim.RMSprop(self.parameters())\n",
    "        \n",
    "        # Loss function\n",
    "        self.criterion = nn.CrossEntropyLoss()\n",
    "        \n",
    "    def forward(self, x):\n",
    "        x = F.relu(self.conv1(x))\n",
    "        x = self.maxpool1(x)\n",
    "        x = F.relu(self.conv2(x))\n",
    "        x = self.maxpool2(x)\n",
    "        x = x.view(-1, 50 * 7 * 7)\n",
    "        x = F.relu(self.fc1(x))\n",
    "        x = F.softmax(self.fc2(x),dim=1)\n",
    "        return x\n",
    "    \n",
    "    def optimize(self, inputs, labels):\n",
    "        self.optimizer.zero_grad()\n",
    "        outputs = self(inputs)\n",
    "        loss = self.criterion(outputs, labels)\n",
    "        loss.backward()\n",
    "        self.optimizer.step()\n",
    "        return loss.data[0]\n",
    "    \n",
    "    def getLoss(self, inputs, labels):\n",
    "        outputs = self(inputs)\n",
    "        loss = self.criterion(outputs, labels)\n",
    "        return loss.data[0]\n",
    "    \n",
    "    def getCorrect(self, inputs, labels):\n",
    "        outputs = self(inputs)\n",
    "        _, predicted = torch.max(outputs.data, 1)\n",
    "        return (predicted == labels.data).sum()"
   ]
  },
  {
   "cell_type": "markdown",
   "metadata": {},
   "source": [
    "### 2. Train and Evaluate LeNet Model"
   ]
  },
  {
   "cell_type": "code",
   "execution_count": 64,
   "metadata": {},
   "outputs": [
    {
     "name": "stdout",
     "output_type": "stream",
     "text": [
      "('Epoch : ', 1)\n",
      "('Train Loss : ', 0.03689910691976547)\n",
      "('Val Loss : ', 0.0370267805258433)\n",
      "('Train Accuracy : ', 0.09966666666666667)\n",
      "('Val Accuracy : ', 0.09783333333333333)\n",
      "#############################################\n",
      "('Epoch : ', 2)\n",
      "('Train Loss : ', 0.036898190905650455)\n",
      "('Val Loss : ', 0.0370267805258433)\n",
      "('Train Accuracy : ', 0.09966666666666667)\n",
      "('Val Accuracy : ', 0.09783333333333333)\n",
      "#############################################\n",
      "('Epoch : ', 3)\n",
      "('Train Loss : ', 0.036898190905650455)\n",
      "('Val Loss : ', 0.0370267805258433)\n",
      "('Train Accuracy : ', 0.09966666666666667)\n",
      "('Val Accuracy : ', 0.09783333333333333)\n",
      "#############################################\n",
      "('Epoch : ', 4)\n",
      "('Train Loss : ', 0.036898190905650455)\n",
      "('Val Loss : ', 0.037022874275843304)\n",
      "('Train Accuracy : ', 0.09966666666666667)\n",
      "('Val Accuracy : ', 0.09783333333333333)\n",
      "#############################################\n",
      "('Epoch : ', 5)\n",
      "('Train Loss : ', 0.036898190905650455)\n",
      "('Val Loss : ', 0.03702808260917664)\n",
      "('Train Accuracy : ', 0.09966666666666667)\n",
      "('Val Accuracy : ', 0.09783333333333333)\n",
      "#############################################\n",
      "('Test Loss : ', 0.037018193864822385)\n",
      "('Test Accuracy : ', 0.1032)\n"
     ]
    }
   ],
   "source": [
    "epochs = 5\n",
    "lenet = LeNet('rmsp')\n",
    "trainloader, valloader, testloader = getLoaders()\n",
    "\n",
    "def getVariable(data):\n",
    "    inputs, labels = data\n",
    "    return Variable(inputs), Variable(labels)\n",
    "\n",
    "for epoch in range(epochs):\n",
    "    train_loss = 0.0\n",
    "    train_correct = 0\n",
    "    n_train = 0\n",
    "    for i, data in enumerate(trainloader):\n",
    "        inputs, labels = getVariable(data)\n",
    "        train_loss += lenet.optimize(inputs, labels)\n",
    "        train_correct += lenet.getCorrect(inputs, labels)\n",
    "        n_train += len(labels)\n",
    "    \n",
    "    val_loss = 0.0\n",
    "    val_correct = 0\n",
    "    n_val = 0\n",
    "    for i, data in enumerate(valloader):\n",
    "        inputs, labels = getVariable(data)\n",
    "        val_loss += lenet.getLoss(inputs, labels)\n",
    "        val_correct += lenet.getCorrect(inputs, labels)\n",
    "        n_val += len(labels)\n",
    "        \n",
    "    print('Epoch : ',epoch+1)\n",
    "    print('Train Loss : ',train_loss/n_train)\n",
    "    print('Val Loss : ',val_loss/n_val)\n",
    "    print('Train Accuracy : ',1.0*train_correct/n_train)\n",
    "    print('Val Accuracy : ',1.0*val_correct/n_val)\n",
    "    print('#############################################')\n",
    "    \n",
    "test_loss = 0.0\n",
    "test_correct = 0\n",
    "n_test = 0\n",
    "for i, data in enumerate(testloader):\n",
    "    inputs, labels = getVariable(data)\n",
    "    test_loss += lenet.getLoss(inputs, labels)\n",
    "    test_correct += lenet.getCorrect(inputs, labels)\n",
    "    n_test += len(labels)\n",
    "\n",
    "print('Test Loss : ',test_loss/n_test)\n",
    "print('Test Accuracy : ',1.0*test_correct/n_test)"
   ]
  },
  {
   "cell_type": "code",
   "execution_count": null,
   "metadata": {},
   "outputs": [],
   "source": [
    "import sklearn"
   ]
  }
 ],
 "metadata": {
  "kernelspec": {
   "display_name": "py2",
   "language": "python",
   "name": "py2"
  },
  "language_info": {
   "codemirror_mode": {
    "name": "ipython",
    "version": 2
   },
   "file_extension": ".py",
   "mimetype": "text/x-python",
   "name": "python",
   "nbconvert_exporter": "python",
   "pygments_lexer": "ipython2",
   "version": "2.7.14"
  }
 },
 "nbformat": 4,
 "nbformat_minor": 1
}
