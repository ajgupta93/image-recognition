{
 "cells": [
  {
   "cell_type": "markdown",
   "metadata": {
    "collapsed": true
   },
   "source": [
    "## Introduction:\n",
    "You can use this ipython notebook as a template for the rest of the homework."
   ]
  },
  {
   "cell_type": "markdown",
   "metadata": {},
   "source": [
    "### 0. Basic Useful Setups:"
   ]
  },
  {
   "cell_type": "code",
   "execution_count": 14,
   "metadata": {},
   "outputs": [],
   "source": [
    "import torch\n",
    "import torchvision\n",
    "import torchvision.transforms as transforms\n",
    "from torch.autograd import Variable\n",
    "import torch.nn as nn\n",
    "import torch.nn.functional as F\n",
    "import torch.optim as optim\n",
    "import numpy as np"
   ]
  },
  {
   "cell_type": "markdown",
   "metadata": {},
   "source": [
    "### 1. Load datasets"
   ]
  },
  {
   "cell_type": "code",
   "execution_count": 15,
   "metadata": {},
   "outputs": [],
   "source": [
    "transform = transforms.Compose([\n",
    "    transforms.ToTensor(),\n",
    "    transforms.Normalize((0.5, 0.5, 0.5),(0.5, 0.5, 0.5))\n",
    "])\n",
    "\n",
    "trainset = torchvision.datasets.MNIST(root='./data', train=True, \n",
    "                                      transform=transform, download=True)\n",
    "\n",
    "testset = torchvision.datasets.MNIST(root='./data', train=False,\n",
    "                                    transform=transform, download=True)\n",
    "\n",
    "def getLoaders(batch_size=64, num_workers=4, val_size=0.2, random_seed=42):\n",
    "    num_train = len(trainset)\n",
    "    indices = list(range(num_train))\n",
    "    split = int(np.floor(valid_size * num_train))\n",
    "    np.random.seed(random_seed)\n",
    "    np.random.shuffle(indices)\n",
    "\n",
    "    train_idx, valid_idx = indices[split:], indices[:split]\n",
    "    train_sampler = SubsetRandomSampler(train_idx)\n",
    "    valid_sampler = SubsetRandomSampler(valid_idx)\n",
    "    \n",
    "    trainloader = torch.utils.data.DataLoader(dataset=trainset, batch_size=batch_size, \n",
    "                                              num_workers=num_workers, sampler=train_sampler)\n",
    "    valloader = torch.utils.data.DataLoader(dataset=trainset, batch_size=batch_size,\n",
    "                                            num_workers=num_workers, sampler=valid_sampler)\n",
    "    testloader = torch.utils.data.DataLoader(dataset=testset, batch_size=batch_size,\n",
    "                                             num_workers=num_workers)\n",
    "    return trainloader, testloader"
   ]
  },
  {
   "cell_type": "markdown",
   "metadata": {},
   "source": [
    "### 1. LetNet Model"
   ]
  },
  {
   "cell_type": "code",
   "execution_count": 20,
   "metadata": {},
   "outputs": [],
   "source": [
    "class LeNet(nn.Module):\n",
    "    def __init__(self, opt='adam'):\n",
    "        super(LeNet, self).__init__()\n",
    "        # torch.nn.Conv2d(in_channels, out_channels, kernel_size, stride=1, \n",
    "        #                 padding=0, dilation=1, groups=1, bias=True)\n",
    "        # torch.nn.MaxPool2d(kernel_size, stride=None, padding=0, dilation=1,\n",
    "        #                    return_indices=False, ceil_mode=False)\n",
    "        self.conv1 = nn.Conv2d(in_channels=3, out_channels=20, kernel_size=(5, 5))\n",
    "        self.maxpool1 = nn.MaxPool2d(kernel_size=(2, 2), stride=(2, 2))\n",
    "        self.conv2 = nn.Conv2d(in_channels=20, out_channels=50, kernel_size=(5, 5))\n",
    "        self.maxpool2 = nn.MaxPool2d(kernel_size=(2, 2), stride=(2, 2))\n",
    "        self.fc1 = nn.Linear(in_features=39200, out_features=500)\n",
    "        self.fc2 = nn.Linear(in_features=500, out_features=10)\n",
    "        \n",
    "        # Optimizer\n",
    "        if opt=='adam':\n",
    "            self.optimizer = optim.Adam(self.parameters())\n",
    "        elif opt=='rmsp':\n",
    "            self.optimizer = optim.RMSprop(self.parameters())\n",
    "        \n",
    "        # Loss function\n",
    "        self.criterion = nn.CrossEntropyLoss()\n",
    "        \n",
    "    def forward(self, x):\n",
    "        # torch.nn.functional.pad(input, pad, mode='constant', value=0)\n",
    "        x = F.pad(x, pad=(2, 2), mode='reflect')\n",
    "        x = F.relu(self.conv1(x))\n",
    "        x = self.maxpool1(x)\n",
    "        x = F.pad(x, pad=(2, 2), mode='reflect')\n",
    "        x = F.relu(self.conv2(x))\n",
    "        x = self.maxpool2(x)\n",
    "        x = F.relu(self.fc1(x))\n",
    "        x = F.softmax(self.fc2(x))\n",
    "        return x\n",
    "    \n",
    "    def optimize(self, inputs, labels):\n",
    "        self.optimizer.zero_grad()\n",
    "        outputs = self(inputs)\n",
    "        loss = self.criterion(outputs, labels)\n",
    "        loss.backward()\n",
    "        self.optimizer.step()\n",
    "        return self.loss\n",
    "    \n",
    "    def getLoss(self, inputs, labels):\n",
    "        outputs = self(inputs)\n",
    "        loss = self.criterion(outputs, labels)\n",
    "        return loss\n",
    "    \n",
    "    def getCorrect(self, inputs, labels):\n",
    "        outputs = self(inputs)\n",
    "        _, predicted = torch.max(outputs.data, 1)\n",
    "        return (predicted == labels).sum()"
   ]
  },
  {
   "cell_type": "markdown",
   "metadata": {},
   "source": [
    "### 2. Train and Evaluate LeNet Model"
   ]
  },
  {
   "cell_type": "code",
   "execution_count": 21,
   "metadata": {},
   "outputs": [
    {
     "ename": "SyntaxError",
     "evalue": "invalid syntax (<ipython-input-21-2e782165d232>, line 16)",
     "output_type": "error",
     "traceback": [
      "\u001b[0;36m  File \u001b[0;32m\"<ipython-input-21-2e782165d232>\"\u001b[0;36m, line \u001b[0;32m16\u001b[0m\n\u001b[0;31m    train_correct += lenet.\u001b[0m\n\u001b[0m                           ^\u001b[0m\n\u001b[0;31mSyntaxError\u001b[0m\u001b[0;31m:\u001b[0m invalid syntax\n"
     ]
    }
   ],
   "source": [
    "epochs = 20\n",
    "lenet = LeNet()\n",
    "trainloader, valloader, testloader = getLoaders()\n",
    "\n",
    "def getVariable(data):\n",
    "    inputs, labels = data\n",
    "    return Variable(inputs), Variable(labels)\n",
    "\n",
    "for epoch in range(epochs):\n",
    "    train_loss = 0.0\n",
    "    train_correct = 0\n",
    "    n_train = 0\n",
    "    for i, data in enumerate(trainloader):\n",
    "        inputs, labels = getVariable(data)\n",
    "        train_loss += lenet.optimize(inputs, labels)\n",
    "        train_correct += lenet.getCorrect(inputs, labels)\n",
    "        n_train += len(labels)\n",
    "    \n",
    "    val_loss = 0.0\n",
    "    val_correct = 0\n",
    "    n_val = 0\n",
    "    for i, data in enumerate(valloader):\n",
    "        inputs, labels = getVariable(data)\n",
    "        val_loss += lenet.getLoss(inputs, labels)\n",
    "        val_correct += lenet.getCorrect(inputs, labels)\n",
    "        n_val += len(labels)\n",
    "        \n",
    "    print('Epoch : ',epoch)\n",
    "    print('Train Loss : ',train_loss/n_train)\n",
    "    print('Val Loss : ',val_loss/n_val)\n",
    "    print('Train Accuracy : ',train_correct/n_train)\n",
    "    print('Val Accuracy : ',val_correct/n_val)\n",
    "    \n",
    "test_loss = 0.0\n",
    "test_correct = 0\n",
    "n_test = 0\n",
    "for i, data in enumerate(testloader):\n",
    "    inputs, labels = getVariable(data)\n",
    "    test_loss += lenet.getLoss(inputs, labels)\n",
    "    test_correct += lenet.getCorrect(inputs, labels)\n",
    "    n_test += len(labels)\n",
    "\n",
    "print('Epoch : ',epoch)\n",
    "print('Test Loss : ',test_loss/n_test)\n",
    "print('Test Accuracy : ',test_correct/n_test)"
   ]
  },
  {
   "cell_type": "code",
   "execution_count": null,
   "metadata": {},
   "outputs": [],
   "source": []
  }
 ],
 "metadata": {
  "kernelspec": {
   "display_name": "py2",
   "language": "python",
   "name": "py2"
  },
  "language_info": {
   "codemirror_mode": {
    "name": "ipython",
    "version": 2
   },
   "file_extension": ".py",
   "mimetype": "text/x-python",
   "name": "python",
   "nbconvert_exporter": "python",
   "pygments_lexer": "ipython2",
   "version": "2.7.14"
  }
 },
 "nbformat": 4,
 "nbformat_minor": 1
}
