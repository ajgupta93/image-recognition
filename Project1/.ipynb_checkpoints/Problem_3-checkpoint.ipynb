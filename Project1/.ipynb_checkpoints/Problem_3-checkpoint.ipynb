{
 "cells": [
  {
   "cell_type": "code",
   "execution_count": null,
   "metadata": {},
   "outputs": [],
   "source": [
    "%matplotlib inline\n",
    "import cv2 # tested with 3.1.0 version\n",
    "import numpy as np\n",
    "import matplotlib.pyplot as plt\n",
    "import os\n",
    "from skimage.filters import roberts, sobel, scharr, prewitt"
   ]
  },
  {
   "cell_type": "markdown",
   "metadata": {},
   "source": [
    "# 3. Edge Detection"
   ]
  },
  {
   "cell_type": "code",
   "execution_count": null,
   "metadata": {},
   "outputs": [],
   "source": [
    "from skimage.measure import compare_ssim\n",
    "from evaluate import evaluate\n",
    "# The code returns the accuracy of the edge detector when compared against the ground truth\n",
    "# OUTPUT_FILE_PATH: Path of the image containing the edges obtained using edge detector\n",
    "# GROUND_TRUTH_PATH: Path of the corresponding ground truth image (present in the folder data/ground_truth)\n",
    "# An example of how to use the evaluate function is shown as follows:\n",
    "OUTPUT_FILE_PATH = 'data/test.png'\n",
    "GROUND_TRUTH_PATH = 'data/ground_truth/3096.bmp'\n",
    "print 'Accuracy: %f' %(evaluate(OUTPUT_FILE_PATH, GROUND_TRUTH_PATH))"
   ]
  },
  {
   "cell_type": "code",
   "execution_count": 12,
   "metadata": {},
   "outputs": [],
   "source": [
    "def my_imread(imagepath):    \n",
    "    image = cv2.imread(imagepath) # Read the image from imagepath.\n",
    "    return image\n",
    "\n",
    "def convert2RGB(image):\n",
    "    image = cv2.cvtColor(image, cv2.COLOR_BGR2RGB)\n",
    "    return image\n",
    "\n",
    "def convert2Gray(image):\n",
    "    image = cv2.cvtColor(image, cv2.COLOR_BGR2GRAY)\n",
    "    return image\n",
    "\n",
    "def createTiles(x=1,y=1,hwidth=8,vwidth=4): \n",
    "    fig,plots = plt.subplots(x,y,figsize=(hwidth,vwidth));\n",
    "    plots = plots.flatten()\n",
    "    return(fig, plots)\n",
    "\n",
    "imageList = !ls './data/img/'\n",
    "groudTruth = !ls './data/ground_truth/'"
   ]
  },
  {
   "cell_type": "markdown",
   "metadata": {},
   "source": [
    "## 3.1 Edge Detector 1 - Sobel"
   ]
  },
  {
   "cell_type": "code",
   "execution_count": null,
   "metadata": {
    "scrolled": true
   },
   "outputs": [],
   "source": [
    "### Fill your code here\n",
    "### Report the accuracy obtained\n",
    "### Report any improvements you have tried\n",
    "fig, axs = plt.subplots(10,2,figsize=(15,45))\n",
    "\n",
    "for i,name in enumerate(imageList):\n",
    "    img = my_imread('./data/img/'+name)\n",
    "    rgb_img = convert2RGB(img)\n",
    "    gray_img = convert2Gray(img)\n",
    "    sobel_edge = sobel(gray_img)\n",
    "\n",
    "    gt_img = convert2Gray(my_imread('./data/ground_truth/'+groudTruth[i]))\n",
    "    accuracy = evaluate(sobel_edge,gt_img,'images')\n",
    "    \n",
    "    axs[i,0].imshow(rgb_img)\n",
    "    axs[i,1].imshow(sobel_edge,cmap='gray')\n",
    "    axs[i,1].set(title='Accuracy = ',str(accuracy))\n",
    "\n",
    "plt.show()"
   ]
  },
  {
   "cell_type": "markdown",
   "metadata": {},
   "source": [
    "## 3.2 Edge Detector 2"
   ]
  },
  {
   "cell_type": "code",
   "execution_count": null,
   "metadata": {
    "collapsed": true,
    "scrolled": true
   },
   "outputs": [],
   "source": [
    "### Fill your code here\n",
    "### Report the accuracy obtained\n",
    "### Report any improvements you have tried\n",
    "def canny(image, sigma=0.25):\n",
    "    # compute the median of the single channel pixel intensities\n",
    "    v = np.median(image)\n",
    " \n",
    "    # apply automatic Canny edge detection using the computed median\n",
    "    lower = int(max(0, (1.0 - sigma) * v))\n",
    "    upper = int(min(255, (1.0 + sigma) * v))\n",
    "    edged = cv2.Canny(image, 150, 220)\n",
    " \n",
    "    # return the edged image\n",
    "    return edged\n",
    "\n"
   ]
  },
  {
   "cell_type": "markdown",
   "metadata": {},
   "source": [
    "## 3.3 Edge Detector 3"
   ]
  },
  {
   "cell_type": "code",
   "execution_count": null,
   "metadata": {
    "collapsed": true,
    "scrolled": true
   },
   "outputs": [],
   "source": [
    "### Fill your code here\n",
    "### Report the accuracy obtained\n",
    "### Report any improvements you have tried"
   ]
  }
 ],
 "metadata": {
  "kernelspec": {
   "display_name": "py2",
   "language": "python",
   "name": "py2"
  },
  "language_info": {
   "codemirror_mode": {
    "name": "ipython",
    "version": 2
   },
   "file_extension": ".py",
   "mimetype": "text/x-python",
   "name": "python",
   "nbconvert_exporter": "python",
   "pygments_lexer": "ipython2",
   "version": "2.7.14"
  }
 },
 "nbformat": 4,
 "nbformat_minor": 1
}
